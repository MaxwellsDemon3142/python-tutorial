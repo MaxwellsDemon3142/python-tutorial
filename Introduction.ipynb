{
 "cells": [
  {
   "cell_type": "markdown",
   "metadata": {
    "nbpresent": {
     "id": "31b680a1-3c0d-4f1b-a99b-97214839ba41"
    }
   },
   "source": [
    "<h1 style='text-align: center; font-size: 50px'>Introducing <img src='/images/python-logo-generic.svg' width='200' style='display: inline'></h1>\n",
    "\n",
    "<img src='/images/python.png' width='500' style='text-align: center'>"
   ]
  },
  {
   "cell_type": "markdown",
   "metadata": {
    "nbpresent": {
     "id": "29b284da-2bfa-42a2-ad64-290ca98e3acd"
    }
   },
   "source": [
    "# About this course\n",
    "\n",
    "In this course we aim to:\n",
    "\n",
    "- explain why we've chosen python and not another language\n",
    "- give you a basic understanding of what is going on under the hood\n",
    "- show you how to get set up to use python on your desktop PC\n",
    "- walk you through the basics of the language\n",
    "- introduce and give usage examples of the key libraries for getting stuff done\n",
    "- provide a walkthrough of some common use cases\n",
    "- be interactive and flexible with the content (if you think we are missing something, please let us know!)"
   ]
  },
  {
   "cell_type": "markdown",
   "metadata": {
    "nbpresent": {
     "id": "4fb37542-4172-4ddb-b92f-f936913a10eb"
    }
   },
   "source": [
    "# Disambiguation\n",
    "\n",
    "*python*\n",
    "noun\n",
    "\n",
    "1.\n",
    "a large heavy-bodied non-venomous snake occurring throughout the Old World tropics, killing prey by constriction and asphyxiation.\n",
    "\n",
    "<br>\n",
    "<figure  style=\"text-align:center\">\n",
    "<img src='/images/Python_molurus_molurus_2.jpg' width='250'/>\n",
    "<figurecaption>pythonidae, aka pythons</figurecaption>\n",
    "</figure>\n",
    "\n",
    "2.\n",
    "COMPUTING\n",
    "a high-level general-purpose programming language.\n",
    "<code style=\"text-align: center;\">\n",
    "```python\n",
    "subject = 'python programing language'\n",
    "\n",
    "if 'programming' in subject:\n",
    "    print('Hello world!')\n",
    "```\n",
    "</code>\n",
    "\n",
    "But is is not always so clean cut... "
   ]
  },
  {
   "cell_type": "code",
   "execution_count": 1,
   "metadata": {
    "collapsed": false
   },
   "outputs": [
    {
     "name": "stdout",
     "output_type": "stream",
     "text": [
      "pygame 1.9.6\n",
      "Hello from the pygame community. https://www.pygame.org/contribute.html\n"
     ]
    }
   ],
   "source": [
    "%%script python\n",
    "\n",
    "# the snake game in one cell\n",
    "\n",
    "import pygame, random, sys\n",
    "from pygame.locals import *\n",
    "def collide(x1, x2, y1, y2, w1, w2, h1, h2):\n",
    "    if x1+w1>x2 and x1<x2+w2 and y1+h1>y2 and y1<y2+h2:\n",
    "        return True\n",
    "    else:\n",
    "        return False\n",
    "def die(screen, score):\n",
    "    f=pygame.font.SysFont('Arial', 30)\n",
    "    t=f.render('Your score was: '+str(score), True, (0, 0, 0))\n",
    "    screen.blit(t, (10, 270))\n",
    "    pygame.display.update()\n",
    "    pygame.time.wait(2000)\n",
    "    sys.exit(0)\n",
    "xs = [290, 290, 290, 290, 290]\n",
    "ys = [290, 270, 250, 230, 210]\n",
    "dirs = 0\n",
    "score = 0;applepos = (random.randint(0, 590), random.randint(0, 590))\n",
    "pygame.init()\n",
    "s=pygame.display.set_mode((600, 600))\n",
    "pygame.display.set_caption('Snake')\n",
    "appleimage = pygame.Surface((10, 10))\n",
    "appleimage.fill((0, 255, 0))\n",
    "img = pygame.Surface((20, 20))\n",
    "img.fill((255, 0, 0))\n",
    "f = pygame.font.SysFont('Arial', 20)\n",
    "clock = pygame.time.Clock()\n",
    "while True:\n",
    "    clock.tick(10)\n",
    "    for e in pygame.event.get():\n",
    "        if e.type == QUIT:\n",
    "            sys.exit(0)\n",
    "        elif e.type == KEYDOWN:\n",
    "            if e.key == K_UP and dirs != 0:\n",
    "                dirs = 2\n",
    "            elif e.key == K_DOWN and dirs != 2:\n",
    "                dirs = 0\n",
    "            elif e.key == K_LEFT and dirs != 1:\n",
    "                dirs = 3\n",
    "            elif e.key == K_RIGHT and dirs != 3:\n",
    "                dirs = 1\n",
    "    i = len(xs)-1\n",
    "    while i >= 2:\n",
    "        if collide(xs[0], xs[i], ys[0], ys[i], 20, 20, 20, 20):\n",
    "            die(s, score)\n",
    "        i-= 1\n",
    "    if collide(xs[0], applepos[0], ys[0], applepos[1], 20, 10, 20, 10):\n",
    "        score+=1\n",
    "        xs.append(700)\n",
    "        ys.append(700)\n",
    "        applepos=(random.randint(0,590),random.randint(0,590))\n",
    "    if xs[0] < 0 or xs[0] > 580 or ys[0] < 0 or ys[0] > 580: \n",
    "        die(s, score)\n",
    "    i = len(xs)-1\n",
    "    while i >= 1:\n",
    "        xs[i] = xs[i-1]\n",
    "        ys[i] = ys[i-1]\n",
    "        i -= 1\n",
    "    if dirs==0:\n",
    "        ys[0] += 20\n",
    "    elif dirs==1:\n",
    "        xs[0] += 20\n",
    "    elif dirs==2:\n",
    "        ys[0] -= 20\n",
    "    elif dirs==3:\n",
    "        xs[0] -= 20    \n",
    "    s.fill((255, 255, 255))    \n",
    "    for i in range(0, len(xs)):\n",
    "        s.blit(img, (xs[i], ys[i]))\n",
    "    s.blit(appleimage, applepos);\n",
    "    t=f.render(str(score), True, (0, 0, 0));\n",
    "    s.blit(t, (10, 10));\n",
    "    pygame.display.update()"
   ]
  },
  {
   "cell_type": "markdown",
   "metadata": {},
   "source": [
    "# History \n",
    "\n",
    "## Humble beginnings\n",
    "\n",
    "Computing hardware has existed since humans first used sticks and stones as counters, with the [first evidence](https://en.wikipedia.org/wiki/History_of_computing_hardware) of an abicus originating in Babylon circa 2400BC, though functional computers (as we know them today) arguably appeared only within the last 500 years. One of the most notable examples  being [Babbage's difference engine](https://en.wikipedia.org/wiki/Difference_engine) of 1820 (you can see a replica of this in the Science Museum today!). \n",
    "\n",
    "The watershed moment was the creation of the first [\"Turing complete\"](https://en.wikipedia.org/wiki/Turing_completeness) computing device during WW2 (1943) by a team lead by Alan Turing. This machine automated the work of many hundereds of people, allowing the Nazi [Enigma code](https://en.wikipedia.org/wiki/Enigma_machine) to be broken on a daily basis -- instrumental in the outcome of the war and a pivot point in human history. \n",
    "\n",
    "<table class=\"noborder\" style=\"border-style:hidden\">\n",
    "    <tr>\n",
    "        <td style=\"border-style:hidden; padding-right:50px\">\n",
    "            <a href=\"https://en.wikipedia.org/wiki/Difference_engine\">\n",
    "            <img src=\"images/babbage_difference_engine.jpg\" style=\"display:inline; width:auto; height:200px\" alt=\"the difference engine\">\n",
    "            </a>\n",
    "            <figcaption>the difference engine (circa 1820s)</figcaption>\n",
    "        </td>\n",
    "        <td style=\"border-style:hidden\">\n",
    "            <a href=\"https://en.wikipedia.org/wiki/Colossus_computer\">\n",
    "            <img src=\"images/colossus.jpg\" style=\"display:inline; width:auto; height:200px\" alt=\"Colossus\">\n",
    "            </a>\n",
    "            <figcaption>Colossus (1943)</figcaption>\n",
    "        </td>\n",
    "    </tr>\n",
    "</table>"
   ]
  },
  {
   "cell_type": "markdown",
   "metadata": {},
   "source": [
    "## Where we are and where we're going\n",
    "\n",
    "The figure below shows the evolution of computer power, measured in million instructions per second (MIPS), from 1990 through to 1998 (last data point -- it is an old article!) with a few extarpolations for future projection. While it is an old article, the trends are largely holding true. The implications are [worth considering](https://www.ted.com/talks/nick_bostrom_what_happens_when_our_computers_get_smarter_than_we_are). \n",
    "\n",
    "<figure style='text-align:center'>\n",
    "<img src='images/power.jpg'>\n",
    "\n",
    "<a href='http://www.jetpress.org/volume1/moravec.htm'>\n",
    "<figurecaption>Hans Moravec (1998), \"When will computer hardware match the human brain?\", Journal of Evolution and Technology</figurecaption></a>\n",
    "</figure>"
   ]
  },
  {
   "cell_type": "markdown",
   "metadata": {},
   "source": [
    "# The onion of programming\n",
    "Today the wheels and finger-sized transistors of the early computers have been replaced by millions-of-times-smaller and more efficient silicon transistors. However, the architecture is still largely the same and it is helpful to know a little about this. \n",
    "\n",
    "<div style=\"float:right\">\n",
    "    <img src=\"images/onion.jpg\" style=\"display:inline; width:auto; height:150px\" alt=\"an onion\">\n",
    "</div>\n",
    "\n",
    "\n",
    "## CPU \n",
    "At the core of a computer is the device that performs the computation, known as the Central Processing Unit (CPU). The CPU contains many small electronic componets that perform the simplest logic operations (e.g. if input1=True and input2=True then output True else output False) on the simplest possible representation of data, a [\"bit\"](https://en.wikipedia.org/wiki/Bit), which can have eiter value 1 or 0. Amazingly, these simple logic operations can be chained together to create any concievable [logic operation](https://en.wikibooks.org/wiki/Digital_Circuits/Logic_Operations), and these logic operations can in turn be chained together to create any concievable [algorithm](https://en.wikipedia.org/wiki/Algorithm), of any complexity! (The definition of [Turing completeness](https://en.wikipedia.org/wiki/Turing_completeness).) \n",
    "\n",
    "## Machine code\n",
    "Obviously it would be incredably time consuming to manually wire these logic operators together in order to make the computer do what you want, so CPU chips provide a selection of core operations which are collectively known as the CPU's [instruction set](https://en.wikipedia.org/wiki/Instruction_set). These instructions are the lowest level of programming possible on a computer. Programmes described at this level are said to be encoded using [machine code](https://en.wikipedia.org/wiki/Machine_code).   \n",
    "\n",
    "> Example of the machine code (binary) for adding the registers 1 and 2 and placing the result in register 6:\n",
    "\n",
    ">`op |   rs |  rt |  rd | shamt| funct       operation`\n",
    "\n",
    ">`0      1     2     6     0     32          decimal`\n",
    "\n",
    ">`000000 00001 00010 00110 00000 100000      binary`\n",
    "\n",
    "\n",
    "## Assembly language\n",
    "Humans do not find binary notation particularly easy to read so, for convenience, human readable proxies for the binary instructions are used. These proxies form a language which is collecively known as [assembly language](https://en.wikipedia.org/wiki/Assembly_language). When a program has been adequately described using assembly language, it is compiled into the binary machine code using a [compiler program](https://en.wikipedia.org/wiki/Compiler) that maps each insturction to the machine code to that the CPU will read.  \n",
    "\n",
    "## Programming languages as we known them\n",
    "[compiler programs](https://en.wikipedia.org/wiki/Compiler) can be used to make further abstractions in the syntax of programming to create languages that more closely resemble how we (humans) naturally communicate. Compilers may compile directly to machine code or be chained together (e.g. A > B > machine code). In this way complexity and higher level features may be progressively built in a modular way. "
   ]
  },
  {
   "cell_type": "markdown",
   "metadata": {},
   "source": [
    "# Programming languages\n",
    "\n",
    "Programming languages can be broadly divided into two catagories: \n",
    "- [domain-specific languages](https://en.wikipedia.org/wiki/Domain-specific_language): designed for use in a partucular application domain, they tend to perform badly when outside their intended use context\n",
    "    - e.g. [Structured Query Language (SQL)](https://en.wikipedia.org/wiki/SQL), designed for the efficient manipulation of data held in relational databases\n",
    "    - or [shell scripts](https://en.wikipedia.org/wiki/Shell_script)\n",
    "- [general-purpose languages](https://en.wikipedia.org/wiki/General-purpose_language): designed to be good at what (at time of making) was considered to be a range of common application domains\n",
    "    - e.g. <a href=\"https://en.wikipedia.org/wiki/C_(programming_language)\">C</a>, <a href=\"https://en.wikipedia.org/wiki/Java_(programming_language)\">Java</a> or [Python](https://www.python.org)\n",
    "\n",
    "</br>\n",
    "\n",
    "<div style=\"float:left\">\n",
    "<img src=\"images/giant_anteater.jpg\" style=\"display:inline; width:auto; height:200px\" alt=\"giant anteater\">\n",
    "<figcaption>ant eater: specialist</figcaption>\n",
    "</div>\n",
    "<div style=\"float:right\">\n",
    "<img src=\"images/wild_boar.jpg\" style=\"display:inline; width:auto; height:200px\" alt=\"wild boar\">\n",
    "<figcaption>wild boar: generalist</figcaption>\n",
    "</div>"
   ]
  },
  {
   "cell_type": "markdown",
   "metadata": {},
   "source": [
    "## Some common programming languages\n",
    "\n",
    "<div style=\"float:right\">\n",
    "<a href=\"https://en.wikipedia.org/wiki/C_(programming_language)\">\n",
    "<img src=\"images/Ken_n_Dennis.jpg\" style=\"display:inline; width:auto; height:200px\" alt=\"Ken and Dennis\">\n",
    "</a>\n",
    "<figcaption>from left: Ken Thompson (created Unix) and<br> Dennis Ritchie (created C)</figcaption>\n",
    "</div>\n",
    "\n",
    "- <a href=\"https://en.wikipedia.org/wiki/C_(programming_language)\">C (1972)</a>\n",
    "    - created in 1969 by  Dennis Ritchie, Bell Labs\n",
    "    - compiles into machine code\n",
    "    - has become the defacto [benchmark for speed](http://benchmarksgame.alioth.debian.org/u64q/performance.php?test=nbody&sort=elapsed)\n",
    "    - it is ubiquitous (Linux and Unix operating systems were built with C) and is here to stay\n",
    "    - very low level (expert use only)\n",
    "- <a href=\"https://en.wikipedia.org/wiki/Unix_shell\">Unix shell (1971)</a>\n",
    "    - a domain specific \"language\" for operating system tasks\n",
    "    - very useful to know\n",
    "- <a href=\"https://en.wikipedia.org/wiki/C%2B%2B\">C++ (1983)</a>\n",
    "    - compiles to machine code\n",
    "    - it introduced object oriented programming paradigm to what is effectively still the C language\n",
    "    - additional out-of-the-box library support\n",
    "    - focused on desktop applications\n",
    "    - slightly higher level than C\n",
    "<div style=\"float:right\">\n",
    "<img src=\"images/c_hello_world.png\" style=\"display:inline\" alt=\"hello world in C\">\n",
    "<figcaption>\"hello world\" in C</figcaption>\n",
    "</div>\n",
    "- <a href=\"https://en.wikipedia.org/wiki/Java_(programming_language)\">Java (1995)</a>\n",
    "    - compiled to byte code which runs on a the Java VM (will run anywhere you have the Java VM installed) \n",
    "    - focus on network communications\n",
    "    - object oriented\n",
    "    - higher level than C++ but still verbose by python standards\n",
    "- <a href=\"https://en.wikipedia.org/wiki/Perl\">Perl (1987)</a>\n",
    "    - developed as a scripting langage for reporting and, later, web development\n",
    "    - arguably closest to python\n",
    "    - [but it lost the race](https://www.fastcompany.com/3026446/the-fall-of-perl-the-webs-most-promising-language)\n",
    "- <a href=\"https://en.wikipedia.org/wiki/Perl\">Python (1991)</a>\n",
    "    - another scripting language\n",
    "    - syntactically parsimonious \n",
    "<div style=\"float:right\">\n",
    "<img src=\"images/python_hello_world.png\" style=\"display:inline\" alt=\"hello world in Python\">\n",
    "<figcaption>\"hello world\" in Python</figcaption>\n",
    "</div>\n",
    "- <a href=\"https://en.wikipedia.org/wiki/R_(programming_language)\">R (1993)</a>\n",
    "    - a domain specific language for statistics\n",
    "    - still best for out-of-the-box statistical tests and timeseries analysis\n",
    "    - but it was designed by statasticians (not engineers) and you can tell\n",
    "    - not suitable for computationally intensive tasks\n"
   ]
  },
  {
   "cell_type": "markdown",
   "metadata": {},
   "source": [
    "# The Python programming language\n",
    "\n",
    "According to https://www.python.org/doc/essays/blurb/:\n",
    "\n",
    "> Python is an *interpreted*, *object-oriented*, *high-level programming language* with *dynamic semantics*. Its high-level built in data structures, combined with *dynamic typing* and *dynamic binding*, make it very attractive for Rapid Application Development, as well as for use as a scripting or glue language to connect existing components together.\n",
    "\n",
    "Breaking this down:\n",
    "- [**interpreted**](https://en.wikipedia.org/wiki/Interpreted_language): there is no compile step before running and instructions are executed (effectively) as they are read\n",
    "- [**object-oriented**](https://en.wikipedia.org/wiki/Object-oriented_programming): programming style based on the conscept of \"objects\" that can contain data, in the form of attributes, or routines, in the form of methods\n",
    "- [**high-level programming language**](https://en.wikipedia.org/wiki/High-level_programming_language): strong abstraction from the details of the computer\n",
    "- [**semantics**](https://en.wikipedia.org/wiki/Semantics): the branch of linguistics and logic concerned with meaning\n",
    "- [**static semantics**](https://en.wikipedia.org/wiki/Programming_language#Static_semantics): code is sense checked before execution, usually at compile time (Python does not do this)\n",
    "- [**dynamic semantics**](https://en.wikipedia.org/wiki/Programming_language#Dynamic_semantics): the meaning of the code is determined at run time (this means you can write nonsense and you wont see an error until you try to run it)\n",
    "- [**dynamic typing**](https://en.wikipedia.org/wiki/Type_system#Duck_typing): the type safety of the program is determined at runtime (this is a logical result of the previous point)\n",
    "- [**duck typing**](https://en.wikipedia.org/wiki/Type_system#Duck_typing): if it walks like a duck, and quacks like a duck, then it is a duck (this is the particular brand of dynamic typing that Python uses)\n",
    "\n",
    "<br>\n",
    "<figure style=\"text-align:center\">\n",
    "<img src='./images/Male_mallard_duck_2.jpg' style=\"display:inline; width:auto; height:200px\">\n",
    "<figcaption>a handsom mallard duck</figcaption>\n",
    "</figure>"
   ]
  },
  {
   "cell_type": "markdown",
   "metadata": {},
   "source": [
    "## Implementations\n",
    "\n",
    "It is worth stressing that Python is the name given to the language, not the implementation of that language (aka the <a href=\"https://en.wikipedia.org/wiki/Interpreter_(computing)\">interpreter</a> -- it is an interpreted language). There are a number of implementations of the Python language, here are some of the most common:\n",
    "\n",
    "- [CPython](https://en.wikipedia.org/wiki/CPython): By far the most common and what most people refer to when they talk about 'installing Python' on a computer. So called because it is written in C. \n",
    "- [Jython](http://www.jython.org): An implementation written in Java. \n",
    "- [PyPy](http://pypy.org): A [just-in-time (JIT) compiler](https://en.wikipedia.org/wiki/Just-in-time_compilation) for Python. Super fast but it doesn't play well with the external C binaries that underpin many of the most popular Python libraries. \n",
    "- [IronPython](http://ironpython.net): An implementation written in .NET. \n",
    "\n",
    "We will use CPython, which shall henceforth be referred to only as Python. \n"
   ]
  },
  {
   "cell_type": "markdown",
   "metadata": {},
   "source": [
    "# How python works\n",
    "\n",
    "Python is an interpreted language that runs on a \"virtual machine\" (VM) -- not like the VirtualBox kind, but more like the Java Virtual Machine (JVM) kind. The idea of a virtual machine may sound complicated, but it is just a way of consceptualising a software program that has a *state* and can *process instructions*. \n",
    "\n",
    "This virtual machine runs in the process hosting the Python interpreter. On a windows machine this process is started by running the python.exe executable (you can find this in the directory in which you have installed Python). \n",
    "\n",
    "> While \"Python VM\" and \"Python interpreter\" are used interhangably, there is [arguably](http://stackoverflow.com/questions/441824/java-virtual-machine-vs-python-interpreter-parlance) a nuance: In a **VM**, instructions are executed deterministically based only on the current state of the virtual machine and therefore do not depend on information elsewhere in the instruction stream at that point in time. An **interpreter** is more sophisticated in that it is tailored to parse a stream of some syntax that is of a specific language and of a specific grammar that must be decoded in the context of the surrounding tokens. In other words, you can't look at each byte or even each line in isolation and know exactly what to do next. E.g. the Java compiler converts Java language into a byte-code stream no different than a C compiler converts C Language programs into assembly code. An interpreter on the other hand doesn't really convert the program into any well defined intermediate form, it just takes the program actions as a matter of the process of interpreting the source.\n",
    "\n",
    "The virtual machine has access to various resources on your computer. Most commonly it can:"
   ]
  },
  {
   "cell_type": "code",
   "execution_count": 2,
   "metadata": {
    "collapsed": false
   },
   "outputs": [
    {
     "data": {
      "text/plain": [
       "16"
      ]
     },
     "execution_count": 2,
     "metadata": {},
     "output_type": "execute_result"
    }
   ],
   "source": [
    "# use the CPU to execute instructions\n",
    "4 * 4"
   ]
  },
  {
   "cell_type": "code",
   "execution_count": 3,
   "metadata": {
    "collapsed": false
   },
   "outputs": [],
   "source": [
    "# use random access memory to store state information\n",
    "a = 'Anyone who has never made a mistake has never tried anything new.' # Einstein"
   ]
  },
  {
   "cell_type": "code",
   "execution_count": 4,
   "metadata": {
    "collapsed": false
   },
   "outputs": [
    {
     "name": "stdout",
     "output_type": "stream",
     "text": [
      "Anyone who has never made a mistake has never tried anything new.\n"
     ]
    }
   ],
   "source": [
    "print(a)"
   ]
  },
  {
   "cell_type": "code",
   "execution_count": 5,
   "metadata": {
    "collapsed": false
   },
   "outputs": [],
   "source": [
    "# access input/output resources such as a hard disk drive\n",
    "with open('test_file.txt', mode='w') as f:\n",
    "    f.write('Success consists of going from failure to failure without loss of enthusiasm.') # Churchill"
   ]
  },
  {
   "cell_type": "code",
   "execution_count": 6,
   "metadata": {
    "collapsed": false
   },
   "outputs": [
    {
     "name": "stdout",
     "output_type": "stream",
     "text": [
      "Success consists of going from failure to failure without loss of enthusiasm.\n"
     ]
    }
   ],
   "source": [
    "with open('test_file.txt', mode='r') as f:\n",
    "    print(f.read())"
   ]
  },
  {
   "cell_type": "markdown",
   "metadata": {},
   "source": [
    "## Processes and kernels\n",
    "It is possible to run multiple Python interpreters at the same time in different processes, but they cannot directly communicate with each other. This is becuase each process is effectvely sandboxed with it's own independent set of system resources. This makes Python a naturally [threadsafe](https://en.wikipedia.org/wiki/Thread_safety) language (obviously becuase it can only have one thread), but this makes it tricky to implement parallell processing (but there are ways and means). \n",
    "\n",
    "Since we refer to the Python interpreter as a VM, it is natural that each instantiation of the interpreter is referred to as a <a href=\"https://en.wikipedia.org/wiki/Kernel_(operating_system)\">kernel</a>, which is the name used for the central core of a computer's operating system. Thus, each Python kernel is a python interpreter running on its own isolated process. "
   ]
  },
  {
   "cell_type": "markdown",
   "metadata": {},
   "source": [
    "## IPython \n",
    "\n",
    "As Python is an interpreted language, it is possible to start the interpreter in the terminal and directly pass commands to it. This way you can see the immediate effect of the language you are using. To make this even more convenient a package called [IPython](https://ipython.org/) has been developed which adds extra features to the otherwise austere interpreter interface. IPython starts a python interpreter which wraps another python interpreter in interface layer. \n",
    "\n",
    "NB: The code executed in a Jupyter notebook or console passes through the IPython interpreter layer. So you are looking at it in action right now. \n",
    "\n",
    "IPython allows convenient features, for example object introspection:"
   ]
  },
  {
   "cell_type": "code",
   "execution_count": 7,
   "metadata": {
    "collapsed": true
   },
   "outputs": [],
   "source": [
    "# for an object, say a string object\n",
    "s = 'I am a string object'"
   ]
  },
  {
   "cell_type": "code",
   "execution_count": 8,
   "metadata": {
    "collapsed": false
   },
   "outputs": [
    {
     "data": {
      "text/plain": [
       "'I am a string object'"
      ]
     },
     "execution_count": 8,
     "metadata": {},
     "output_type": "execute_result"
    }
   ],
   "source": [
    "# we can type . after the object and then tab through the available attributes and methods\n",
    "# try it here\n",
    "s"
   ]
  },
  {
   "cell_type": "markdown",
   "metadata": {},
   "source": [
    "Nearly all interactive python development uses IPython and it is very rare to interact directly with the interpreter. The raw interpreter is usually used only ror running python script files. "
   ]
  },
  {
   "cell_type": "markdown",
   "metadata": {},
   "source": [
    "# Some thoughts"
   ]
  },
  {
   "cell_type": "markdown",
   "metadata": {},
   "source": [
    "<a href=\"https://xkcd.com/1319/\"><img src=\"./images/automation.png\"></a>\n",
    "\n",
    "<a href=\"https://xkcd.com/1205/\"><img src=\"./images/is_it_worth_the_time.png\"></a>"
   ]
  },
  {
   "cell_type": "code",
   "execution_count": null,
   "metadata": {
    "collapsed": true
   },
   "outputs": [],
   "source": []
  },
  {
   "cell_type": "code",
   "execution_count": null,
   "metadata": {},
   "outputs": [],
   "source": []
  }
 ],
 "metadata": {
  "anaconda-cloud": {},
  "kernelspec": {
   "display_name": "Python 3",
   "language": "python",
   "name": "python3"
  },
  "language_info": {
   "codemirror_mode": {
    "name": "ipython",
    "version": 3
   },
   "file_extension": ".py",
   "mimetype": "text/x-python",
   "name": "python",
   "nbconvert_exporter": "python",
   "pygments_lexer": "ipython3",
   "version": "3.6.6"
  },
  "nbpresent": {
   "slides": {
    "107d2509-83d9-46a8-a44a-66d8935cb3d2": {
     "id": "107d2509-83d9-46a8-a44a-66d8935cb3d2",
     "prev": "812ec834-2b35-4688-9054-82430b596f4c",
     "regions": {
      "248e9437-2314-4482-9775-20dda0f08eb8": {
       "attrs": {
        "height": 1,
        "width": 1,
        "x": 0,
        "y": 0
       },
       "content": {
        "cell": "29b284da-2bfa-42a2-ad64-290ca98e3acd",
        "part": "source"
       },
       "id": "248e9437-2314-4482-9775-20dda0f08eb8"
      }
     }
    },
    "812ec834-2b35-4688-9054-82430b596f4c": {
     "id": "812ec834-2b35-4688-9054-82430b596f4c",
     "prev": null,
     "regions": {
      "ab37cd9d-2c7d-4060-a382-1e833a6bf494": {
       "attrs": {
        "height": 1,
        "width": 1,
        "x": 0,
        "y": 0
       },
       "content": {
        "cell": "31b680a1-3c0d-4f1b-a99b-97214839ba41",
        "part": "source"
       },
       "id": "ab37cd9d-2c7d-4060-a382-1e833a6bf494"
      }
     },
     "theme": null
    },
    "fcee14df-3d98-4b22-bf41-45c2632dc1a1": {
     "id": "fcee14df-3d98-4b22-bf41-45c2632dc1a1",
     "layout": "grid",
     "prev": "107d2509-83d9-46a8-a44a-66d8935cb3d2",
     "regions": {
      "05de1eec-3307-4af2-bcf0-69a79c17d6f0": {
       "attrs": {
        "height": 0.6666666666666666,
        "pad": 0.01,
        "treemap:weight": 1,
        "width": 0.5,
        "x": 0.5,
        "y": 0.3333333333333333
       },
       "id": "05de1eec-3307-4af2-bcf0-69a79c17d6f0"
      },
      "ce082aa6-b051-4e00-932c-85165f7fca18": {
       "attrs": {
        "height": 0.3333333333333333,
        "pad": 0.01,
        "treemap:weight": 1,
        "width": 1,
        "x": 0,
        "y": 0
       },
       "id": "ce082aa6-b051-4e00-932c-85165f7fca18"
      },
      "d1feb2fb-4926-43ed-a4eb-a2ec4180238b": {
       "attrs": {
        "height": 0.6666666666666666,
        "pad": 0.01,
        "treemap:weight": 1,
        "width": 0.5,
        "x": 0,
        "y": 0.3333333333333333
       },
       "id": "d1feb2fb-4926-43ed-a4eb-a2ec4180238b"
      }
     }
    }
   },
   "themes": {
    "default": "833ca397-f2ed-4310-b534-8e9559813b59",
    "theme": {
     "2ba3909f-3d18-4d8e-921c-da76c88a00b0": {
      "backgrounds": {
       "backgroundColor": {
        "background-color": "backgroundColor",
        "id": "backgroundColor"
       }
      },
      "id": "2ba3909f-3d18-4d8e-921c-da76c88a00b0",
      "palette": {
       "backgroundColor": {
        "id": "backgroundColor",
        "rgb": [
         240,
         241,
         235
        ]
       },
       "headingColor": {
        "id": "headingColor",
        "rgb": [
         56,
         61,
         61
        ]
       },
       "linkColor": {
        "id": "linkColor",
        "rgb": [
         81,
         72,
         61
        ]
       },
       "mainColor": {
        "id": "mainColor",
        "rgb": [
         0,
         0,
         0
        ]
       }
      },
      "rules": {
       "a": {
        "color": "linkColor"
       },
       "h1": {
        "color": "headingColor",
        "font-family": "EB Garamond",
        "font-size": 7
       },
       "h2": {
        "color": "headingColor",
        "font-family": "EB Garamond",
        "font-size": 5
       },
       "h3": {
        "color": "headingColor",
        "font-family": "EB Garamond",
        "font-size": 3.75
       },
       "h4": {
        "color": "headingColor",
        "font-family": "EB Garamond",
        "font-size": 3
       },
       "h5": {
        "color": "headingColor",
        "font-family": "EB Garamond"
       },
       "h6": {
        "color": "headingColor",
        "font-family": "EB Garamond"
       },
       "h7": {
        "color": "headingColor",
        "font-family": "EB Garamond"
       },
       "li": {
        "color": "mainColor",
        "font-family": "EB Garamond",
        "font-size": 5
       },
       "p": {
        "color": "mainColor",
        "font-family": "EB Garamond",
        "font-size": 5
       }
      },
      "text-base": {
       "color": "mainColor",
       "font-family": "EB Garamond",
       "font-size": 5
      }
     },
     "3ba02381-df4c-47ef-a0b7-9a5f70648cd3": {
      "backgrounds": {
       "backgroundColor": {
        "background-color": "backgroundColor",
        "id": "backgroundColor"
       }
      },
      "id": "3ba02381-df4c-47ef-a0b7-9a5f70648cd3",
      "palette": {
       "backgroundColor": {
        "id": "backgroundColor",
        "rgb": [
         256,
         256,
         256
        ]
       },
       "headingColor": {
        "id": "headingColor",
        "rgb": [
         34,
         34,
         34
        ]
       },
       "linkColor": {
        "id": "linkColor",
        "rgb": [
         42,
         118,
         221
        ]
       },
       "mainColor": {
        "id": "mainColor",
        "rgb": [
         34,
         34,
         34
        ]
       }
      },
      "rules": {
       "a": {
        "color": "linkColor"
       },
       "h1": {
        "color": "headingColor",
        "font-family": "Source Sans Pro",
        "font-size": 5.25
       },
       "h2": {
        "color": "headingColor",
        "font-family": "Source Sans Pro",
        "font-size": 4
       },
       "h3": {
        "color": "headingColor",
        "font-family": "Source Sans Pro",
        "font-size": 3.5
       },
       "h4": {
        "color": "headingColor",
        "font-family": "Source Sans Pro",
        "font-size": 3
       },
       "h5": {
        "color": "headingColor",
        "font-family": "Source Sans Pro"
       },
       "h6": {
        "color": "headingColor",
        "font-family": "Source Sans Pro"
       },
       "h7": {
        "color": "headingColor",
        "font-family": "Source Sans Pro"
       },
       "li": {
        "color": "mainColor",
        "font-family": "Source Sans Pro",
        "font-size": 6
       },
       "p": {
        "color": "mainColor",
        "font-family": "Source Sans Pro",
        "font-size": 6
       }
      },
      "text-base": {
       "color": "mainColor",
       "font-family": "Source Sans Pro",
       "font-size": 6
      }
     },
     "52c9dd95-f9f7-489c-ab98-2a43520caa9c": {
      "backgrounds": {
       "backgroundColor": {
        "background-color": "backgroundColor",
        "id": "backgroundColor"
       }
      },
      "id": "52c9dd95-f9f7-489c-ab98-2a43520caa9c",
      "palette": {
       "backgroundColor": {
        "id": "backgroundColor",
        "rgb": [
         247,
         251,
         252
        ]
       },
       "headingColor": {
        "id": "headingColor",
        "rgb": [
         51,
         51,
         51
        ]
       },
       "linkColor": {
        "id": "linkColor",
        "rgb": [
         59,
         117,
         158
        ]
       },
       "mainColor": {
        "id": "mainColor",
        "rgb": [
         51,
         51,
         51
        ]
       }
      },
      "rules": {
       "a": {
        "color": "linkColor"
       },
       "h1": {
        "color": "headingColor",
        "font-family": "Quicksand",
        "font-size": 7
       },
       "h2": {
        "color": "headingColor",
        "font-family": "Quicksand",
        "font-size": 5
       },
       "h3": {
        "color": "headingColor",
        "font-family": "Quicksand",
        "font-size": 3.75
       },
       "h4": {
        "color": "headingColor",
        "font-family": "Quicksand",
        "font-size": 3
       },
       "h5": {
        "color": "headingColor",
        "font-family": "Quicksand"
       },
       "h6": {
        "color": "headingColor",
        "font-family": "Quicksand"
       },
       "h7": {
        "color": "headingColor",
        "font-family": "Quicksand"
       },
       "li": {
        "color": "mainColor",
        "font-family": "Open Sans",
        "font-size": 5
       },
       "p": {
        "color": "mainColor",
        "font-family": "Open Sans",
        "font-size": 5
       }
      },
      "text-base": {
       "color": "mainColor",
       "font-family": "Open Sans",
       "font-size": 5
      }
     },
     "7247b54d-2bb7-4e98-a48c-1150f1429d3f": {
      "backgrounds": {
       "backgroundColor": {
        "background-color": "backgroundColor",
        "id": "backgroundColor"
       }
      },
      "id": "7247b54d-2bb7-4e98-a48c-1150f1429d3f",
      "palette": {
       "backgroundColor": {
        "id": "backgroundColor",
        "rgb": [
         247,
         243,
         222
        ]
       },
       "headingColor": {
        "id": "headingColor",
        "rgb": [
         51,
         51,
         51
        ]
       },
       "linkColor": {
        "id": "linkColor",
        "rgb": [
         139,
         116,
         61
        ]
       },
       "mainColor": {
        "id": "mainColor",
        "rgb": [
         51,
         51,
         51
        ]
       }
      },
      "rules": {
       "a": {
        "color": "linkColor"
       },
       "h1": {
        "color": "headingColor",
        "font-family": "Oswald",
        "font-size": 7
       },
       "h2": {
        "color": "headingColor",
        "font-family": "Oswald",
        "font-size": 5
       },
       "h3": {
        "color": "headingColor",
        "font-family": "Oswald",
        "font-size": 3.75
       },
       "h4": {
        "color": "headingColor",
        "font-family": "Oswald",
        "font-size": 3
       },
       "h5": {
        "color": "headingColor",
        "font-family": "Oswald"
       },
       "h6": {
        "color": "headingColor",
        "font-family": "Oswald"
       },
       "h7": {
        "color": "headingColor",
        "font-family": "Oswald"
       },
       "li": {
        "color": "mainColor",
        "font-family": "Lato",
        "font-size": 5
       },
       "p": {
        "color": "mainColor",
        "font-family": "Lato",
        "font-size": 5
       }
      },
      "text-base": {
       "color": "mainColor",
       "font-family": "Lato",
       "font-size": 5
      }
     },
     "7c3b6e69-c6fb-42a9-b0a3-c33ccd8995cc": {
      "backgrounds": {
       "dc7afa04-bf90-40b1-82a5-726e3cff5267": {
        "background-color": "31af15d2-7e15-44c5-ab5e-e04b16a89eff",
        "id": "dc7afa04-bf90-40b1-82a5-726e3cff5267"
       }
      },
      "id": "7c3b6e69-c6fb-42a9-b0a3-c33ccd8995cc",
      "palette": {
       "19cc588f-0593-49c9-9f4b-e4d7cc113b1c": {
        "id": "19cc588f-0593-49c9-9f4b-e4d7cc113b1c",
        "rgb": [
         252,
         252,
         252
        ]
       },
       "31af15d2-7e15-44c5-ab5e-e04b16a89eff": {
        "id": "31af15d2-7e15-44c5-ab5e-e04b16a89eff",
        "rgb": [
         68,
         68,
         68
        ]
       },
       "50f92c45-a630-455b-aec3-788680ec7410": {
        "id": "50f92c45-a630-455b-aec3-788680ec7410",
        "rgb": [
         197,
         226,
         245
        ]
       },
       "c5cc3653-2ee1-402a-aba2-7caae1da4f6c": {
        "id": "c5cc3653-2ee1-402a-aba2-7caae1da4f6c",
        "rgb": [
         43,
         126,
         184
        ]
       },
       "efa7f048-9acb-414c-8b04-a26811511a21": {
        "id": "efa7f048-9acb-414c-8b04-a26811511a21",
        "rgb": [
         25.118061674008803,
         73.60176211453744,
         107.4819383259912
        ]
       }
      },
      "rules": {
       "a": {
        "color": "19cc588f-0593-49c9-9f4b-e4d7cc113b1c"
       },
       "blockquote": {
        "color": "50f92c45-a630-455b-aec3-788680ec7410",
        "font-size": 3
       },
       "code": {
        "font-family": "Anonymous Pro"
       },
       "h1": {
        "color": "19cc588f-0593-49c9-9f4b-e4d7cc113b1c",
        "font-family": "Merriweather",
        "font-size": 8
       },
       "h2": {
        "color": "19cc588f-0593-49c9-9f4b-e4d7cc113b1c",
        "font-family": "Merriweather",
        "font-size": 6
       },
       "h3": {
        "color": "50f92c45-a630-455b-aec3-788680ec7410",
        "font-family": "Lato",
        "font-size": 5.5
       },
       "h4": {
        "color": "c5cc3653-2ee1-402a-aba2-7caae1da4f6c",
        "font-family": "Lato",
        "font-size": 5
       },
       "h5": {
        "font-family": "Lato"
       },
       "h6": {
        "font-family": "Lato"
       },
       "h7": {
        "font-family": "Lato"
       },
       "li": {
        "color": "50f92c45-a630-455b-aec3-788680ec7410",
        "font-size": 3.25
       },
       "pre": {
        "font-family": "Anonymous Pro",
        "font-size": 4
       }
      },
      "text-base": {
       "color": "19cc588f-0593-49c9-9f4b-e4d7cc113b1c",
       "font-family": "Lato",
       "font-size": 4
      }
     },
     "833ca397-f2ed-4310-b534-8e9559813b59": {
      "backgrounds": {
       "backgroundColor": {
        "background-color": "backgroundColor",
        "id": "backgroundColor"
       }
      },
      "id": "833ca397-f2ed-4310-b534-8e9559813b59",
      "palette": {
       "backgroundColor": {
        "id": "backgroundColor",
        "rgb": [
         17,
         17,
         17
        ]
       },
       "headingColor": {
        "id": "headingColor",
        "rgb": [
         238,
         238,
         238
        ]
       },
       "linkColor": {
        "id": "linkColor",
        "rgb": [
         231,
         173,
         82
        ]
       },
       "mainColor": {
        "id": "mainColor",
        "rgb": [
         238,
         238,
         238
        ]
       }
      },
      "rules": {
       "a": {
        "color": "linkColor"
       },
       "h1": {
        "color": "headingColor",
        "font-family": "Montserrat",
        "font-size": 7
       },
       "h2": {
        "color": "headingColor",
        "font-family": "Montserrat",
        "font-size": 5
       },
       "h3": {
        "color": "headingColor",
        "font-family": "Montserrat",
        "font-size": 3.75
       },
       "h4": {
        "color": "headingColor",
        "font-family": "Montserrat",
        "font-size": 3
       },
       "h5": {
        "color": "headingColor",
        "font-family": "Montserrat"
       },
       "h6": {
        "color": "headingColor",
        "font-family": "Montserrat"
       },
       "h7": {
        "color": "headingColor",
        "font-family": "Montserrat"
       },
       "li": {
        "color": "mainColor",
        "font-family": "Open Sans",
        "font-size": 4
       },
       "p": {
        "color": "mainColor",
        "font-family": "Open Sans",
        "font-size": 4
       }
      },
      "text-base": {
       "color": "mainColor",
       "font-family": "Open Sans",
       "font-size": 4
      }
     },
     "8ac038ab-46f6-4eb8-8086-7ba59e92b23a": {
      "backgrounds": {
       "backgroundColor": {
        "background-color": "backgroundColor",
        "id": "backgroundColor"
       }
      },
      "id": "8ac038ab-46f6-4eb8-8086-7ba59e92b23a",
      "palette": {
       "backgroundColor": {
        "id": "backgroundColor",
        "rgb": [
         256,
         256,
         256
        ]
       },
       "headingColor": {
        "id": "headingColor",
        "rgb": [
         0,
         0,
         0
        ]
       },
       "linkColor": {
        "id": "linkColor",
        "rgb": [
         0,
         0,
         139
        ]
       },
       "mainColor": {
        "id": "mainColor",
        "rgb": [
         0,
         0,
         0
        ]
       }
      },
      "rules": {
       "a": {
        "color": "linkColor"
       },
       "h1": {
        "color": "headingColor",
        "font-family": "News Cycle",
        "font-size": 7
       },
       "h2": {
        "color": "headingColor",
        "font-family": "News Cycle",
        "font-size": 5
       },
       "h3": {
        "color": "headingColor",
        "font-family": "News Cycle",
        "font-size": 3.75
       },
       "h4": {
        "color": "headingColor",
        "font-family": "News Cycle",
        "font-size": 3
       },
       "h5": {
        "color": "headingColor",
        "font-family": "News Cycle"
       },
       "h6": {
        "color": "headingColor",
        "font-family": "News Cycle"
       },
       "h7": {
        "color": "headingColor",
        "font-family": "News Cycle"
       },
       "li": {
        "color": "mainColor",
        "font-family": "Lato",
        "font-size": 5
       },
       "p": {
        "color": "mainColor",
        "font-family": "Lato",
        "font-size": 5
       }
      },
      "text-base": {
       "color": "mainColor",
       "font-family": "Lato",
       "font-size": 5
      }
     },
     "a2746534-29b2-4eb5-bf5d-57bf851e80b0": {
      "backgrounds": {
       "backgroundColor": {
        "background-color": "backgroundColor",
        "id": "backgroundColor"
       }
      },
      "id": "a2746534-29b2-4eb5-bf5d-57bf851e80b0",
      "palette": {
       "backgroundColor": {
        "id": "backgroundColor",
        "rgb": [
         34,
         34,
         34
        ]
       },
       "headingColor": {
        "id": "headingColor",
        "rgb": [
         256,
         256,
         256
        ]
       },
       "linkColor": {
        "id": "linkColor",
        "rgb": [
         66,
         175,
         250
        ]
       },
       "mainColor": {
        "id": "mainColor",
        "rgb": [
         256,
         256,
         256
        ]
       }
      },
      "rules": {
       "a": {
        "color": "linkColor"
       },
       "h1": {
        "color": "headingColor",
        "font-family": "Source Sans Pro",
        "font-size": 5.25
       },
       "h2": {
        "color": "headingColor",
        "font-family": "Source Sans Pro",
        "font-size": 4
       },
       "h3": {
        "color": "headingColor",
        "font-family": "Source Sans Pro",
        "font-size": 3.5
       },
       "h4": {
        "color": "headingColor",
        "font-family": "Source Sans Pro",
        "font-size": 3
       },
       "h5": {
        "color": "headingColor",
        "font-family": "Source Sans Pro"
       },
       "h6": {
        "color": "headingColor",
        "font-family": "Source Sans Pro"
       },
       "h7": {
        "color": "headingColor",
        "font-family": "Source Sans Pro"
       },
       "li": {
        "color": "mainColor",
        "font-family": "Source Sans Pro",
        "font-size": 6
       },
       "p": {
        "color": "mainColor",
        "font-family": "Source Sans Pro",
        "font-size": 6
       }
      },
      "text-base": {
       "color": "mainColor",
       "font-family": "Source Sans Pro",
       "font-size": 6
      }
     },
     "d673fab6-d471-41d3-ab88-5d47e54f4384": {
      "id": "d673fab6-d471-41d3-ab88-5d47e54f4384",
      "palette": {
       "19cc588f-0593-49c9-9f4b-e4d7cc113b1c": {
        "id": "19cc588f-0593-49c9-9f4b-e4d7cc113b1c",
        "rgb": [
         252,
         252,
         252
        ]
       },
       "31af15d2-7e15-44c5-ab5e-e04b16a89eff": {
        "id": "31af15d2-7e15-44c5-ab5e-e04b16a89eff",
        "rgb": [
         68,
         68,
         68
        ]
       },
       "50f92c45-a630-455b-aec3-788680ec7410": {
        "id": "50f92c45-a630-455b-aec3-788680ec7410",
        "rgb": [
         155,
         177,
         192
        ]
       },
       "c5cc3653-2ee1-402a-aba2-7caae1da4f6c": {
        "id": "c5cc3653-2ee1-402a-aba2-7caae1da4f6c",
        "rgb": [
         43,
         126,
         184
        ]
       },
       "efa7f048-9acb-414c-8b04-a26811511a21": {
        "id": "efa7f048-9acb-414c-8b04-a26811511a21",
        "rgb": [
         25.118061674008803,
         73.60176211453744,
         107.4819383259912
        ]
       }
      },
      "rules": {
       "blockquote": {
        "color": "50f92c45-a630-455b-aec3-788680ec7410"
       },
       "code": {
        "font-family": "Anonymous Pro"
       },
       "h1": {
        "color": "c5cc3653-2ee1-402a-aba2-7caae1da4f6c",
        "font-family": "Lato",
        "font-size": 8
       },
       "h2": {
        "color": "c5cc3653-2ee1-402a-aba2-7caae1da4f6c",
        "font-family": "Lato",
        "font-size": 6
       },
       "h3": {
        "color": "50f92c45-a630-455b-aec3-788680ec7410",
        "font-family": "Lato",
        "font-size": 5.5
       },
       "h4": {
        "color": "c5cc3653-2ee1-402a-aba2-7caae1da4f6c",
        "font-family": "Lato",
        "font-size": 5
       },
       "h5": {
        "font-family": "Lato"
       },
       "h6": {
        "font-family": "Lato"
       },
       "h7": {
        "font-family": "Lato"
       },
       "pre": {
        "font-family": "Anonymous Pro",
        "font-size": 4
       }
      },
      "text-base": {
       "font-family": "Merriweather",
       "font-size": 4
      }
     },
     "f1a0d2cf-cc5a-42e8-916a-1ea6a4efc118": {
      "backgrounds": {
       "backgroundColor": {
        "background-color": "backgroundColor",
        "id": "backgroundColor"
       }
      },
      "id": "f1a0d2cf-cc5a-42e8-916a-1ea6a4efc118",
      "palette": {
       "backgroundColor": {
        "id": "backgroundColor",
        "rgb": [
         43,
         43,
         43
        ]
       },
       "headingColor": {
        "id": "headingColor",
        "rgb": [
         238,
         238,
         238
        ]
       },
       "linkColor": {
        "id": "linkColor",
        "rgb": [
         19,
         218,
         236
        ]
       },
       "mainColor": {
        "id": "mainColor",
        "rgb": [
         238,
         238,
         238
        ]
       }
      },
      "rules": {
       "a": {
        "color": "linkColor"
       },
       "h1": {
        "color": "headingColor",
        "font-family": "Oswald",
        "font-size": 7
       },
       "h2": {
        "color": "headingColor",
        "font-family": "Oswald",
        "font-size": 5
       },
       "h3": {
        "color": "headingColor",
        "font-family": "Oswald",
        "font-size": 3.75
       },
       "h4": {
        "color": "headingColor",
        "font-family": "Oswald",
        "font-size": 3
       },
       "h5": {
        "color": "headingColor",
        "font-family": "Oswald"
       },
       "h6": {
        "color": "headingColor",
        "font-family": "Oswald"
       },
       "h7": {
        "color": "headingColor",
        "font-family": "Oswald"
       },
       "li": {
        "color": "mainColor",
        "font-family": "Lato",
        "font-size": 5
       },
       "p": {
        "color": "mainColor",
        "font-family": "Lato",
        "font-size": 5
       }
      },
      "text-base": {
       "color": "mainColor",
       "font-family": "Lato",
       "font-size": 5
      }
     },
     "fa17334a-454a-4312-9c6c-7c33191f7b90": {
      "backgrounds": {
       "backgroundColor": {
        "background-color": "backgroundColor",
        "id": "backgroundColor"
       }
      },
      "id": "fa17334a-454a-4312-9c6c-7c33191f7b90",
      "palette": {
       "backgroundColor": {
        "id": "backgroundColor",
        "rgb": [
         0,
         43,
         54
        ]
       },
       "headingColor": {
        "id": "headingColor",
        "rgb": [
         238,
         232,
         213
        ]
       },
       "linkColor": {
        "id": "linkColor",
        "rgb": [
         38,
         139,
         210
        ]
       },
       "mainColor": {
        "id": "mainColor",
        "rgb": [
         147,
         161,
         161
        ]
       }
      },
      "rules": {
       "a": {
        "color": "linkColor"
       },
       "h1": {
        "color": "headingColor",
        "font-family": "Oswald",
        "font-size": 7
       },
       "h2": {
        "color": "headingColor",
        "font-family": "Oswald",
        "font-size": 5
       },
       "h3": {
        "color": "headingColor",
        "font-family": "Oswald",
        "font-size": 3.75
       },
       "h4": {
        "color": "headingColor",
        "font-family": "Oswald",
        "font-size": 3
       },
       "h5": {
        "color": "headingColor",
        "font-family": "Oswald"
       },
       "h6": {
        "color": "headingColor",
        "font-family": "Oswald"
       },
       "h7": {
        "color": "headingColor",
        "font-family": "Oswald"
       },
       "li": {
        "color": "mainColor",
        "font-family": "Lato",
        "font-size": 5
       },
       "p": {
        "color": "mainColor",
        "font-family": "Lato",
        "font-size": 5
       }
      },
      "text-base": {
       "color": "mainColor",
       "font-family": "Lato",
       "font-size": 5
      }
     }
    }
   }
  }
 },
 "nbformat": 4,
 "nbformat_minor": 2
}
